{
 "cells": [
  {
   "cell_type": "markdown",
   "id": "4db8c12a",
   "metadata": {},
   "source": [
    "#importing Image of lena and converting to gray scale "
   ]
  },
  {
   "cell_type": "code",
   "execution_count": 75,
   "id": "d3403f58",
   "metadata": {},
   "outputs": [],
   "source": [
    "import cv2\n",
    "import numpy as np\n",
    "img= cv2.imread('lena.png')\n",
    "img=cv2.cvtColor(img,cv2.COLOR_BGR2GRAY)\n",
    "\n",
    "x=np.array(img)\n",
    "[h,w] = x.shape\n",
    "mx=np.max(x)\n",
    "mn=np.min(x)\n",
    "diff = mx-mn"
   ]
  },
  {
   "cell_type": "markdown",
   "id": "476a9978",
   "metadata": {},
   "source": [
    "normalizing the scale using derived transformation function.\n"
   ]
  },
  {
   "cell_type": "code",
   "execution_count": 77,
   "id": "779ddeb9",
   "metadata": {},
   "outputs": [],
   "source": [
    "new_array=np.zeros((h,w),dtype='int32')\n",
    "for i in range(0,h):\n",
    "    for j in range(0,w):\n",
    "        new_array[i,j]=(99*(x[i,j]-mn))/diff"
   ]
  },
  {
   "cell_type": "code",
   "execution_count": 78,
   "id": "db057055",
   "metadata": {},
   "outputs": [],
   "source": [
    "for i in range(h):\n",
    "    for j in range(w):\n",
    "        x[i,j]=new_array[i,j]"
   ]
  },
  {
   "cell_type": "markdown",
   "id": "1d1d4cab",
   "metadata": {},
   "source": [
    "COnverting array to image using PIL"
   ]
  },
  {
   "cell_type": "code",
   "execution_count": 83,
   "id": "d56e6775",
   "metadata": {},
   "outputs": [],
   "source": [
    "from PIL import Image\n",
    "img = Image.fromarray(x, 'L')\n",
    "img.show()\n",
    "\n"
   ]
  }
 ],
 "metadata": {
  "kernelspec": {
   "display_name": "Python 3 (ipykernel)",
   "language": "python",
   "name": "python3"
  },
  "language_info": {
   "codemirror_mode": {
    "name": "ipython",
    "version": 3
   },
   "file_extension": ".py",
   "mimetype": "text/x-python",
   "name": "python",
   "nbconvert_exporter": "python",
   "pygments_lexer": "ipython3",
   "version": "3.9.12"
  }
 },
 "nbformat": 4,
 "nbformat_minor": 5
}
